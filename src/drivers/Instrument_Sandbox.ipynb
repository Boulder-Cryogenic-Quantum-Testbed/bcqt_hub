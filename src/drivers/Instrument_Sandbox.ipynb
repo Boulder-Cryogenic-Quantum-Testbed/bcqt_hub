{
 "cells": [
  {
   "cell_type": "markdown",
   "metadata": {},
   "source": [
    "## Instrument Sandbox\n",
    "\n",
    "Each cell contains example usages of all the instruments\n",
    "\n",
    "Very useful for sending single commands, like using the CryoSwitch to change fridge lines, or using the SG_Anritsu to turn the TWPA on/off\n"
   ]
  },
  {
   "cell_type": "code",
   "execution_count": null,
   "metadata": {},
   "outputs": [],
   "source": [
    "%load_ext autoreload\n",
    "%autoreload 3\n",
    "\n",
    "import sys, pyvisa, time\n",
    "from pathlib import Path\n",
    "\n",
    "current_path = Path(\".\")\n",
    "misc_path = current_path / \"misc\"\n",
    "instruments_path = current_path / \"instruments\"\n",
    "\n",
    "# easy access to all instrument drivers\n",
    "sys.path.append(str(current_path))\n",
    "sys.path.append(str(misc_path))\n",
    "sys.path.append(str(instruments_path))\n",
    "\n",
    "pyvisa.log_to_screen(False)"
   ]
  },
  {
   "cell_type": "markdown",
   "metadata": {},
   "source": [
    "## Cryoswitch"
   ]
  },
  {
   "cell_type": "code",
   "execution_count": null,
   "metadata": {},
   "outputs": [],
   "source": [
    "from misc.CryoSwitchController.CryoSwitchController import Cryoswitch\n",
    "\n",
    "if \"switch\" not in locals():\n",
    "    switch = Cryoswitch(IP=\"192.168.0.117\")\n",
    "    switch.start() ## -> Initialization of the internal hardware\n",
    "# switch.get_pulse_history(pulse_number=3, port='B')      ## -> Show the last 5 pulses send through on port A\n",
    "\n",
    "switch.get_internal_temperature()\n",
    "switch.set_output_voltage(5)                            ## -> Set the output pulse voltage to 5V\n",
    "\n",
    "contacts_disconnect = [1, 2, 3, 5, 6] # [1, 2, 3, 4, 5, 6]\n",
    "contacts_connect = [4]\n",
    "\n",
    "sleep_time = 1  # seconds\n",
    "    \n",
    "for disconnect in contacts_disconnect:\n",
    "    print(f\"Disconnecting switch A - contact {disconnect}\")\n",
    "    profile = switch.disconnect(port='A', contact=disconnect)\n",
    "    time.sleep(sleep_time)\n",
    "    profile = switch.disconnect(port='B', contact=disconnect)\n",
    "    time.sleep(sleep_time)\n",
    "\n",
    "\n",
    "for connect in contacts_connect:\n",
    "    print(f\"Connecting switch B - contact {connect}\")\n",
    "    profile = switch.connect(port='A', contact=connect)\n",
    "    time.sleep(sleep_time)\n",
    "    profile = switch.connect(port='B', contact=connect)\n",
    "    time.sleep(sleep_time)\n",
    "    \n",
    "\n"
   ]
  },
  {
   "cell_type": "markdown",
   "metadata": {},
   "source": [
    "### Agilent VNA\n"
   ]
  },
  {
   "cell_type": "code",
   "execution_count": null,
   "metadata": {},
   "outputs": [],
   "source": [
    "from VNA_Keysight import VNA_Keysight\n",
    "\n",
    "VNA_Keysight_InstrConfig = {\n",
    "    \"instrument_name\" : \"VNA_Keysight\",\n",
    "    # \"rm_backend\" : \"@py\",+\n",
    "    \"rm_backend\" : None,\n",
    "    \"instr_address\" : 'TCPIP0::192.168.0.105::inst0::INSTR',\n",
    "    # \"instr_address\" : 'TCPIP0::K-N5231B-57006.local::inst0::INSTR',\n",
    "}\n",
    "\n",
    "PNA_X = VNA_Keysight(VNA_Keysight_InstrConfig, debug=True)\n",
    "\n"
   ]
  },
  {
   "cell_type": "markdown",
   "metadata": {},
   "source": [
    "### Anritsu Signal Generator\n"
   ]
  },
  {
   "cell_type": "code",
   "execution_count": null,
   "metadata": {},
   "outputs": [],
   "source": [
    "from SG_Anritsu import SG_Anritsu\n",
    "\n",
    "TEST_Config = {\n",
    "    \"instrument_name\" : \"TEST\",\n",
    "    \"rm_backend\" : None,\n",
    "    \"instr_address\" : 'GPIB::7::INSTR',  # test instr\n",
    "}\n",
    "\n",
    "TWPA_Config = {\n",
    "    \"instrument_name\" : \"TWPA\",\n",
    "    \"rm_backend\" : None,\n",
    "    \"instr_address\" : 'GPIB::8::INSTR',  # twpa\n",
    "}\n",
    "\n",
    "pyvisa.log_to_screen(False)\n",
    "\n",
    "if \"TEST_SG\" not in locals():\n",
    "    TEST_SG = SG_Anritsu(TEST_Config, debug=True)\n",
    "\n",
    "if \"TWPA_SG\" not in locals():\n",
    "    TWPA_SG = SG_Anritsu(TWPA_Config, debug=True)\n",
    "\n",
    "All_SGs = [TWPA_SG, TEST_SG]\n",
    "\n",
    "for SG in All_SGs:  \n",
    "    # SG.open_pyvisa_backend()\n",
    "    # SG.open_pyvisa_resource()\n",
    "    # SG.debug_force_clear()\n",
    "    print(f\"\\n\\nSwitching to: {SG.instr_config[\"instrument_name\"]}\")\n",
    "    # print(SG.resource.write(\"*CLS\"))\n",
    "    # print(SG.resource.query(\"*IDN?\"))\n",
    "     \n",
    "    # # time.sleep(2)\n",
    "    # print(f\"{SG.resource.query(\"OUTP:STAT?\") = }\")\n",
    "    \n",
    "    # print(f\"{SG.get_power() = }\")\n",
    "    # print(f\"{SG.set_power(-30) = }\")\n",
    "    \n",
    "    # print(f\"{SG.get_freq() = }\")\n",
    "    # print(f\"{SG.set_freq(3e9) = }\")\n",
    "    \n",
    "    # print(f\"{SG.get_output() = }\")\n",
    "    # print(f\"{SG.set_output(False) = }\")\n",
    "    \n",
    "    # SG.set_output(True)\n",
    "    \n",
    "    \n",
    "    \n",
    "    \n",
    "\n",
    "\n"
   ]
  },
  {
   "cell_type": "markdown",
   "metadata": {},
   "source": [
    "### Rohde & Schwarz Spectrum Analyzer\n"
   ]
  },
  {
   "cell_type": "code",
   "execution_count": null,
   "metadata": {},
   "outputs": [],
   "source": [
    "from SA_RnS_FSEB20 import SA_RnS_FSEB20\n",
    "\n",
    "SA_RnS_InstrConfig = {\n",
    "    \"instrument_name\" : \"SA_RnS\",\n",
    "    # \"rm_backend\" : \"@py\",\n",
    "    \"rm_backend\" : None,\n",
    "    \"instr_address\" : 'GPIB::20::INSTR',      \n",
    "}\n",
    "\n",
    "SIG_Analyzer = SA_RnS_FSEB20(SA_RnS_InstrConfig, debug=True)\n",
    "\n"
   ]
  }
 ],
 "metadata": {
  "kernelspec": {
   "display_name": "bcqt-ctrl",
   "language": "python",
   "name": "python3"
  },
  "language_info": {
   "codemirror_mode": {
    "name": "ipython",
    "version": 3
   },
   "file_extension": ".py",
   "mimetype": "text/x-python",
   "name": "python",
   "nbconvert_exporter": "python",
   "pygments_lexer": "ipython3",
   "version": "3.12.7"
  }
 },
 "nbformat": 4,
 "nbformat_minor": 2
}
